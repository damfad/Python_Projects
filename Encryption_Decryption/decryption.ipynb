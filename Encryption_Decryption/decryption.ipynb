{
 "cells": [
  {
   "cell_type": "code",
   "execution_count": 1,
   "metadata": {},
   "outputs": [
    {
     "name": "stdout",
     "output_type": "stream",
     "text": [
      "Enter the total number of cipher elements : 5\n",
      "\n",
      "Enter individual cipher numbers separated by a space: 1 74 3125 2578\n",
      "The Decrypted Cipher is\n",
      "AMEN\n"
     ]
    }
   ],
   "source": [
    "def decrypt_k():\n",
    "    \"\"\"\n",
    "    This is a program to decrypt an encrypted message\n",
    "    \n",
    "    input: the integers conntained in the cipher\n",
    "    \n",
    "    output: the original message represented as a string\n",
    "    \"\"\"\n",
    "    #First we creating an RSA key pair (public and private key)\n",
    "\n",
    "    #Define p and q: They should be prime numbers. p >= 13, q >= 17\n",
    "    p = 89\n",
    "    q = 97\n",
    "\n",
    "    #create the public key\n",
    "    n = p * q\n",
    "    n_pq = (p-1) * (q-1)\n",
    "    \n",
    "    e = 5 #putting a value for e. the value has to be small, geater than 1 and n_pq is not divisible by e\n",
    "       \n",
    "    #Note public key is n and e\n",
    "    \n",
    "    #Create the privte key: d\n",
    "    i = 3\n",
    "    d = int((i * n_pq + 1) / e) #This is the private key\n",
    "    \n",
    "    #################################################################################\n",
    "    #Input the list of integers to be decrypted\n",
    "    \n",
    "    # number of elements\n",
    "    num_cipher = int(input(\"Enter the total number of cipher elements : \"))\n",
    "  \n",
    "    # Below line read inputs from user using map() function \n",
    "    raw_input = input\n",
    "    cipher_list = list(map(int,raw_input(\"\\nEnter individual cipher numbers separated by a space: \").strip().split()))[:num_cipher]\n",
    "  \n",
    "    #print(\"\\nComplete Cipher List = \", cipher_list)\n",
    "    ##################################################################################\n",
    "    \n",
    "    #Second: Encrypting using a public key    \n",
    "    dict_2 = {1:\"A\",2:\"B\",3:\"C\",4:\"D\",5:\"E\",6:\"F\",7:\"G\",8:\"H\",9:\"I\",10:\"J\",11:\"K\",12:\"L\",13:\"M\",14:\"N\",\n",
    "          15:\"O\",16:\"P\",17:\"Q\",18:\"R\",19:\"S\",20:\"T\",21:\"U\",22:\"V\",23:\"W\",24:\"X\",25:\"Y\",26:\"Z\",27:\" \"}\n",
    "    \n",
    "    letters_ind = []\n",
    "    \n",
    "    for xters in cipher_list:\n",
    "        decrypt = (xters ** d) % n #applying the decryption key to the cipher one by one\n",
    "        int_conv = dict_2[decrypt] #applying the dictionary to convert the number to letters\n",
    "        #integer = print(int_conv)\n",
    "        letters_ind.append(int_conv) #put all the integer into the integer empty list     \n",
    "        word_string = ''.join(letters_ind) #To join the string together\n",
    "        \n",
    "   \n",
    "    print(\"The Decrypted Cipher is\")    \n",
    "    return word_string\n",
    "\n",
    "print(decrypt_k())\n"
   ]
  },
  {
   "cell_type": "code",
   "execution_count": null,
   "metadata": {},
   "outputs": [],
   "source": []
  }
 ],
 "metadata": {
  "kernelspec": {
   "display_name": "Python 3",
   "language": "python",
   "name": "python3"
  },
  "language_info": {
   "codemirror_mode": {
    "name": "ipython",
    "version": 3
   },
   "file_extension": ".py",
   "mimetype": "text/x-python",
   "name": "python",
   "nbconvert_exporter": "python",
   "pygments_lexer": "ipython3",
   "version": "3.8.8"
  }
 },
 "nbformat": 4,
 "nbformat_minor": 2
}
