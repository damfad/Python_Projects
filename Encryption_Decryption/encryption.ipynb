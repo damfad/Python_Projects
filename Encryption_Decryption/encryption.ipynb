{
 "cells": [
  {
   "cell_type": "code",
   "execution_count": 1,
   "metadata": {},
   "outputs": [],
   "source": [
    "def encrypt_k(my_string):\n",
    "    \"\"\"\n",
    "    This is a program to encrypt a message\n",
    "    \n",
    "    input: any string\n",
    "    \n",
    "    output: cipher, print the cipher\n",
    "    \"\"\"\n",
    "    #First we creating an RSA key pair (public and private key)\n",
    "\n",
    "    #Define p and q: They should be prime numbers. p >= 13, q >= 17\n",
    "    p = 89\n",
    "    q = 97\n",
    "\n",
    "    #create the public key\n",
    "    n = p * q\n",
    "    n_pq = (p-1) * (q-1)\n",
    "    \n",
    "    e = 5 #putting a value for e. the value has to be small, geater than 1 and n_pq is not divisible by e\n",
    "       \n",
    "    #Note public key is n and e\n",
    "    \n",
    "    #Create the privte key: d\n",
    "    i = 3\n",
    "    d = int((i * n_pq + 1) / e) #This is the private key\n",
    "    \n",
    "    \n",
    "    #Second: Encrypting using a public key    \n",
    "    dict_1 = {\"A\":1,\"B\":2,\"C\":3,\"D\":4,\"E\":5,\"F\":6,\"G\":7,\"H\":8,\"I\":9,\"J\":10,\"K\":11,\"L\":12,\"M\":13,\"N\":14,\n",
    "        \"O\":15,\"P\":16,\"Q\":17,\"R\":18,\"S\":19,\"T\":20,\"U\":21,\"V\":22,\"W\":23,\"X\":24,\"Y\":25,\"Z\":26,\" \":27}\n",
    "    \n",
    "    cipher = []\n",
    "    \n",
    "    for xters in my_string:\n",
    "        uplet = xters.upper() #Convert the string to upper case\n",
    "        Num_u = dict_1[uplet] #Convert the upper case string to the number equivalent using the dictionary\n",
    "        cipher_str = (Num_u ** e) % n #Convert the number equivalent to its cipher using the cipher equation\n",
    "        cipher.append(cipher_str) # place the cipher into the cipher list\n",
    "        \n",
    "    return cipher"
   ]
  },
  {
   "cell_type": "code",
   "execution_count": 3,
   "metadata": {},
   "outputs": [
    {
     "data": {
      "text/plain": [
       "[74, 1, 74, 1]"
      ]
     },
     "execution_count": 3,
     "metadata": {},
     "output_type": "execute_result"
    }
   ],
   "source": [
    "encrypt_k(\"mama\")"
   ]
  },
  {
   "cell_type": "code",
   "execution_count": null,
   "metadata": {},
   "outputs": [],
   "source": []
  }
 ],
 "metadata": {
  "kernelspec": {
   "display_name": "Python 3",
   "language": "python",
   "name": "python3"
  },
  "language_info": {
   "codemirror_mode": {
    "name": "ipython",
    "version": 3
   },
   "file_extension": ".py",
   "mimetype": "text/x-python",
   "name": "python",
   "nbconvert_exporter": "python",
   "pygments_lexer": "ipython3",
   "version": "3.8.8"
  }
 },
 "nbformat": 4,
 "nbformat_minor": 2
}
